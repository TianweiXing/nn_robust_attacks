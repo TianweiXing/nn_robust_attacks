{
 "cells": [
  {
   "cell_type": "code",
   "execution_count": 1,
   "metadata": {},
   "outputs": [
    {
     "name": "stderr",
     "output_type": "stream",
     "text": [
      "/home/tianwei/anaconda3/lib/python3.6/site-packages/h5py/__init__.py:36: FutureWarning: Conversion of the second argument of issubdtype from `float` to `np.floating` is deprecated. In future, it will be treated as `np.float64 == np.dtype(float).type`.\n",
      "  from ._conv import register_converters as _register_converters\n",
      "Using TensorFlow backend.\n"
     ]
    }
   ],
   "source": [
    "import numpy as np\n",
    "from keras.models import Sequential\n",
    "from keras.layers import Dense, Dropout, Activation, Flatten\n",
    "from keras.layers import Conv2D, MaxPooling2D\n",
    "from keras.optimizers import SGD\n",
    "\n",
    "import tensorflow as tf\n",
    "from setup_mnist import MNIST\n",
    "from setup_cifar import CIFAR\n",
    "import os\n",
    "\n",
    "def train(data, file_name, params, num_epochs=30, batch_size=50, train_temp=1, init=None):\n",
    "    \"\"\"\n",
    "    Standard neural network training procedure.\n",
    "    \"\"\"\n",
    "    model = Sequential()\n",
    "\n",
    "    print(data.train_data.shape)\n",
    "    \n",
    "    model.add(Conv2D(params[0], (5, 5), padding='same',\n",
    "                            input_shape=data.train_data.shape[1:]))\n",
    "    model.add(Activation('relu'))\n",
    "    model.add(MaxPooling2D(pool_size=(2, 2), padding='same'))\n",
    "    \n",
    "    model.add(Conv2D(params[1], (5, 5), padding='same'))\n",
    "    model.add(Activation('relu'))\n",
    "    model.add(MaxPooling2D(pool_size=(2, 2), padding='same'))\n",
    "    \n",
    "    model.add(Conv2D(params[2], (4, 4), padding='same'))\n",
    "    model.add(Activation('relu'))\n",
    "    model.add(MaxPooling2D(pool_size=(2, 2), padding='same'))\n",
    "    \n",
    "    model.add(Flatten())\n",
    "    model.add(Dense(10))\n",
    "    \n",
    "    model.summary()\n",
    "\n",
    "    \n",
    "    \n",
    "#     model.add(Conv2D(params[2], (3, 3)))\n",
    "#     model.add(Activation('relu'))\n",
    "#     model.add(Conv2D(params[3], (3, 3)))\n",
    "#     model.add(Activation('relu'))\n",
    "#     model.add(MaxPooling2D(pool_size=(2, 2)))\n",
    "\n",
    "#     model.add(Flatten())\n",
    "#     model.add(Dense(params[4]))\n",
    "#     model.add(Activation('relu'))\n",
    "#     model.add(Dropout(0.5))\n",
    "#     model.add(Dense(params[5]))\n",
    "#     model.add(Activation('relu'))\n",
    "#     model.add(Dense(10))\n",
    "    \n",
    "    if init != None:\n",
    "        model.load_weights(init)\n",
    "\n",
    "    def fn(correct, predicted):\n",
    "        return tf.nn.softmax_cross_entropy_with_logits(labels=correct,\n",
    "                                                       logits=predicted/train_temp)\n",
    "\n",
    "    sgd = SGD(lr=0.01, decay=1e-6, momentum=0.9, nesterov=True)\n",
    "    \n",
    "    model.compile(loss=fn,\n",
    "                  optimizer=sgd,\n",
    "                  metrics=['accuracy'])\n",
    "    \n",
    "    model.fit(data.train_data, data.train_labels,\n",
    "              batch_size=batch_size,\n",
    "              validation_data=(data.validation_data, data.validation_labels),\n",
    "              epochs=num_epochs,\n",
    "              shuffle=True)\n",
    "    \n",
    "\n",
    "    if file_name != None:\n",
    "        model.save(file_name)\n",
    "\n",
    "    return model\n",
    "\n",
    "def train_distillation(data, file_name, params, num_epochs=50, batch_size=128, train_temp=1):\n",
    "    \"\"\"\n",
    "    Train a network using defensive distillation.\n",
    "    Distillation as a Defense to Adversarial Perturbations against Deep Neural Networks\n",
    "    Nicolas Papernot, Patrick McDaniel, Xi Wu, Somesh Jha, Ananthram Swami\n",
    "    IEEE S&P, 2016.\n",
    "    \"\"\"\n",
    "    if not os.path.exists(file_name+\"_init\"):\n",
    "        # Train for one epoch to get a good starting point.\n",
    "        train(data, file_name+\"_init\", params, 1, batch_size)\n",
    "    \n",
    "    # now train the teacher at the given temperature\n",
    "    teacher = train(data, file_name+\"_teacher\", params, num_epochs, batch_size, train_temp,\n",
    "                    init=file_name+\"_init\")\n",
    "\n",
    "    # evaluate the labels at temperature t\n",
    "    predicted = teacher.predict(data.train_data)\n",
    "    with tf.Session() as sess:\n",
    "        y = sess.run(tf.nn.softmax(predicted/train_temp))\n",
    "        print(y)\n",
    "        data.train_labels = y\n",
    "\n",
    "    # train the student model at temperature t\n",
    "    student = train(data, file_name, params, num_epochs, batch_size, train_temp,\n",
    "                    init=file_name+\"_init\")\n",
    "\n",
    "    # and finally we predict at temperature 1\n",
    "    predicted = student.predict(data.train_data)\n",
    "\n",
    "    print(predicted)"
   ]
  },
  {
   "cell_type": "code",
   "execution_count": 2,
   "metadata": {
    "collapsed": true,
    "scrolled": true
   },
   "outputs": [],
   "source": [
    "# # dont need to train again\n",
    "# if not os.path.isdir('models'):\n",
    "#     os.makedirs('models')\n",
    "\n",
    "# hidden_param = [10, 25, 100]\n",
    "# train(MNIST(), \"models/mnist\", hidden_param, num_epochs=30)\n",
    "\n",
    "# train_distillation(MNIST(), \"models/mnist-distilled-100\", hidden_param,\n",
    "#                    num_epochs=30, train_temp=100)"
   ]
  },
  {
   "cell_type": "code",
   "execution_count": null,
   "metadata": {
    "collapsed": true
   },
   "outputs": [],
   "source": []
  },
  {
   "cell_type": "code",
   "execution_count": 3,
   "metadata": {
    "collapsed": true
   },
   "outputs": [],
   "source": [
    "import tensorflow as tf\n",
    "import numpy as np\n",
    "import time\n",
    "\n",
    "from setup_cifar import CIFAR, CIFARModel\n",
    "from setup_mnist import MNIST, MNISTModel\n",
    "from setup_inception import ImageNet, InceptionModel\n",
    "\n",
    "from l2_attack import CarliniL2\n",
    "from l0_attack import CarliniL0\n",
    "from li_attack import CarliniLi\n",
    "\n",
    "\n",
    "# def show(img):\n",
    "#     \"\"\"\n",
    "#     Show MNSIT digits in the console.\n",
    "#     \"\"\"\n",
    "#     remap = \"  .*#\"+\"#\"*100\n",
    "#     img = (img.flatten()+.5)*3\n",
    "#     if len(img) != 784: return\n",
    "#     print(\"START\")\n",
    "#     for i in range(28):\n",
    "#         print(\"\".join([remap[int(round(x))] for x in img[i*28:i*28+28]]))\n",
    "\n",
    "\n",
    "def generate_data(data, samples, targeted=True, start=0, inception=False):\n",
    "    \"\"\"\n",
    "    Generate the input data to the attack algorithm.\n",
    "    data: the images to attack\n",
    "    samples: number of samples to use\n",
    "    targeted: if true, construct targeted attacks, otherwise untargeted attacks\n",
    "    start: offset into data to use\n",
    "    inception: if targeted and inception, randomly sample 100 targets intead of 1000\n",
    "    \"\"\"\n",
    "    inputs = []\n",
    "    targets = []\n",
    "    for i in range(samples):\n",
    "        if targeted:\n",
    "            if inception:\n",
    "                seq = random.sample(range(1,1001), 10)\n",
    "            else:\n",
    "                seq = range(data.test_labels.shape[1])\n",
    "\n",
    "            for j in seq:\n",
    "                if (j == np.argmax(data.test_labels[start+i])) and (inception == False):\n",
    "                    continue\n",
    "                inputs.append(data.test_data[start+i])\n",
    "                targets.append(np.eye(data.test_labels.shape[1])[j])\n",
    "        else:\n",
    "            inputs.append(data.test_data[start+i])\n",
    "            targets.append(data.test_labels[start+i])\n",
    "\n",
    "    inputs = np.array(inputs)\n",
    "    targets = np.array(targets)\n",
    "\n",
    "    return inputs, targets"
   ]
  },
  {
   "cell_type": "code",
   "execution_count": 4,
   "metadata": {
    "scrolled": true
   },
   "outputs": [],
   "source": [
    "# sess = tf.Session()\n",
    "# tf.global_variables_initializer().run()\n",
    "gpu_options = tf.GPUOptions(per_process_gpu_memory_fraction=0.3)\n",
    "sess = tf.InteractiveSession(config=tf.ConfigProto(gpu_options=gpu_options))\n",
    "# sess = tf.InteractiveSession()\n",
    "tf.global_variables_initializer().run()\n",
    "\n",
    "data, model =  MNIST(), MNISTModel(\"models/mnist\", sess)\n",
    "# attack = CarliniL0(sess, model,  max_iterations=1000)\n",
    "attack = CarliniL2(sess, model, batch_size=9, max_iterations=1000, confidence=0)\n",
    "\n",
    "inputs, targets = generate_data(data, samples=1, targeted=True,\n",
    "                                start=0, inception=False)"
   ]
  },
  {
   "cell_type": "code",
   "execution_count": 5,
   "metadata": {},
   "outputs": [
    {
     "name": "stdout",
     "output_type": "stream",
     "text": [
      "(9, 28, 28, 1)\n",
      "[[1. 0. 0. 0. 0. 0. 0. 0. 0. 0.]\n",
      " [0. 1. 0. 0. 0. 0. 0. 0. 0. 0.]\n",
      " [0. 0. 1. 0. 0. 0. 0. 0. 0. 0.]\n",
      " [0. 0. 0. 1. 0. 0. 0. 0. 0. 0.]\n",
      " [0. 0. 0. 0. 1. 0. 0. 0. 0. 0.]\n",
      " [0. 0. 0. 0. 0. 1. 0. 0. 0. 0.]\n",
      " [0. 0. 0. 0. 0. 0. 1. 0. 0. 0.]\n",
      " [0. 0. 0. 0. 0. 0. 0. 0. 1. 0.]\n",
      " [0. 0. 0. 0. 0. 0. 0. 0. 0. 1.]]\n"
     ]
    }
   ],
   "source": [
    "print(inputs.shape )\n",
    "print(targets )"
   ]
  },
  {
   "cell_type": "code",
   "execution_count": 6,
   "metadata": {
    "scrolled": true
   },
   "outputs": [
    {
     "name": "stdout",
     "output_type": "stream",
     "text": [
      "go up to 9\n",
      "tick 0\n",
      "[10000000000.0, 10000000000.0, 10000000000.0, 10000000000.0, 10000000000.0, 10000000000.0, 10000000000.0, 10000000000.0, 10000000000.0]\n",
      "0 (0.36034116, 0.35169062, 0.008650551)\n",
      "100 (0.3535604, 0.3530026, 0.0005577672)\n",
      "200 (0.3535602, 0.35300255, 0.0005576729)\n",
      "[10000000000.0, 10000000000.0, 10000000000.0, 10000000000.0, 10000000000.0, 10000000000.0, 10000000000.0, 10000000000.0, 10000000000.0]\n",
      "0 (3.5255797, 3.5168762, 0.008703454)\n",
      "100 (3.4890883, 3.4385529, 0.050535373)\n",
      "200 (3.4886823, 3.4383464, 0.050336003)\n",
      "300 (3.4739664, 3.411605, 0.062361367)\n",
      "400 (3.4593298, 3.37885, 0.080479965)\n",
      "500 (3.4554136, 3.3700428, 0.085370794)\n",
      "600 (3.4539719, 3.3667529, 0.08721889)\n",
      "700 (3.4533885, 3.365415, 0.08797343)\n",
      "800 (3.4531674, 3.3647454, 0.088421986)\n",
      "[10000000000.0, 10000000000.0, 10000000000.0, 10000000000.0, 10000000000.0, 10000000000.0, 10000000000.0, 10000000000.0, 10000000000.0]\n",
      "0 (35.17744, 35.16873, 0.008709197)\n",
      "100 (31.02943, 27.656881, 3.3725495)\n",
      "200 (30.537556, 26.150162, 4.387395)\n",
      "300 (27.062057, 19.213924, 7.848134)\n",
      "400 (26.85792, 18.956324, 7.901596)\n",
      "500 (26.817467, 18.883656, 7.93381)\n",
      "600 (26.804436, 18.843483, 7.960952)\n",
      "700 (26.7996, 18.825377, 7.9742246)\n",
      "800 (26.796982, 18.82836, 7.9686213)\n",
      "900 (26.795918, 18.825266, 7.970651)\n",
      "[10000000000.0, 10000000000.0, 10000000000.0, 10000000000.0, 10000000000.0, 10000000000.0, 10000000000.0, 10000000000.0, 10000000000.0]\n",
      "0 (351.69598, 351.6873, 0.008709783)\n",
      "100 (178.8385, 131.915, 46.92351)\n",
      "200 (104.97348, 20.654644, 84.31884)\n",
      "300 (69.095955, 0.1512332, 68.944725)\n",
      "400 (50.71263, 0.0, 50.71263)\n",
      "500 (45.78199, 0.054027557, 45.727962)\n",
      "600 (43.974186, 0.23824596, 43.73594)\n",
      "700 (43.26444, 0.18995142, 43.074486)\n",
      "800 (42.87548, 0.15119219, 42.72429)\n",
      "900 (42.687786, 0.1273489, 42.560436)\n",
      "[5.9210315, 7.009315, 3.7543504, 1.5146013, 5.5375047, 3.5186253, 8.54744, 3.9989746, 2.452735]\n",
      "0 (193.43672, 193.42801, 0.008709728)\n",
      "100 (118.41363, 86.04085, 32.37278)\n",
      "200 (88.87167, 32.487762, 56.383907)\n",
      "300 (53.50908, 0.5608534, 52.948227)\n",
      "400 (44.85753, 0.37035003, 44.48718)\n",
      "500 (43.396564, 0.2641179, 43.132446)\n",
      "600 (42.85482, 0.0038216591, 42.850998)\n",
      "700 (42.616554, 0.15336506, 42.46319)\n",
      "800 (42.426796, 0.02220192, 42.404594)\n",
      "900 (42.456905, 0.15667517, 42.300232)\n",
      "[5.9210315, 7.009315, 3.7377048, 1.5065324, 5.461134, 3.4870808, 8.528994, 3.9717922, 2.4186826]\n",
      "0 (114.30708, 114.29837, 0.008709645)\n",
      "100 (81.057465, 61.62352, 19.433945)\n",
      "200 (70.27533, 38.917156, 31.358171)\n",
      "300 (46.87758, 8.834418, 38.04316)\n",
      "400 (43.716156, 5.718242, 37.997913)\n",
      "500 (42.88462, 4.68408, 38.20054)\n",
      "600 (42.412113, 4.175561, 38.236553)\n",
      "700 (42.182224, 3.5443292, 38.637894)\n",
      "800 (42.119675, 3.5498264, 38.569847)\n",
      "900 (42.097412, 3.4268878, 38.670525)\n",
      "[5.9210315, 7.009315, 3.7324774, 1.501827, 5.461134, 3.4870808, 8.528994, 3.9680295, 2.4186826]\n",
      "0 (116.612045, 116.60333, 0.008709624)\n",
      "100 (85.042564, 67.25685, 17.785715)\n",
      "200 (71.6416, 40.27605, 31.365547)\n",
      "300 (48.00323, 5.2103314, 42.7929)\n",
      "400 (43.520187, 2.0277655, 41.49242)\n",
      "500 (42.91105, 2.0015278, 40.90952)\n",
      "600 (42.639553, 1.8481263, 40.791428)\n",
      "700 (42.537598, 1.8006899, 40.736908)\n",
      "800 (42.51754, 1.6792297, 40.83831)\n",
      "[5.9210315, 7.009315, 3.7324774, 1.5005877, 5.461134, 3.4870808, 8.502458, 3.9680295, 2.3791168]\n",
      "0 (109.52718, 109.51847, 0.008709606)\n",
      "100 (81.07564, 64.46803, 16.607605)\n",
      "200 (69.99117, 40.992317, 28.998856)\n",
      "300 (47.39795, 7.3699417, 40.028008)\n",
      "400 (43.66125, 1.834545, 41.826706)\n",
      "500 (43.03345, 1.362957, 41.670494)\n",
      "600 (42.731205, 1.0985148, 41.63269)\n",
      "700 (42.623566, 1.3676069, 41.25596)\n",
      "800 (42.43927, 1.0248483, 41.41442)\n",
      "900 (42.36727, 0.926723, 41.440548)\n",
      "[5.9210315, 7.009315, 3.7280266, 1.4969877, 5.461134, 3.4870808, 8.502458, 3.9680295, 2.3791168]\n",
      "0 (103.23143, 103.22272, 0.008709588)\n",
      "100 (77.614365, 62.18719, 15.427175)\n",
      "200 (67.82057, 41.13867, 26.681898)\n",
      "300 (46.98283, 8.411691, 38.57114)\n",
      "400 (43.556202, 2.5701346, 40.98607)\n",
      "500 (42.953697, 1.7953577, 41.15834)\n",
      "600 (42.66966, 1.2454679, 41.42419)\n",
      "700 (42.520485, 1.1668925, 41.353592)\n",
      "800 (42.50091, 1.1933873, 41.307526)\n",
      "900 (42.454765, 1.2147353, 41.24003)\n",
      "Took 21.953196048736572 seconds to run 9 samples.\n"
     ]
    }
   ],
   "source": [
    "timestart = time.time()\n",
    "adv = attack.attack(inputs, targets)\n",
    "timeend = time.time()\n",
    "\n",
    "print(\"Took\",timeend-timestart,\"seconds to run\",len(inputs),\"samples.\")"
   ]
  },
  {
   "cell_type": "code",
   "execution_count": 9,
   "metadata": {},
   "outputs": [
    {
     "name": "stdout",
     "output_type": "stream",
     "text": [
      "The autoreload extension is already loaded. To reload it, use:\n",
      "  %reload_ext autoreload\n"
     ]
    }
   ],
   "source": [
    "%matplotlib inline\n",
    "%load_ext autoreload\n",
    "\n",
    "%autoreload 2\n",
    "import matplotlib.pyplot as plt"
   ]
  },
  {
   "cell_type": "code",
   "execution_count": 10,
   "metadata": {
    "scrolled": false
   },
   "outputs": [
    {
     "data": {
      "image/png": "[encoded data removed]",
      "text/plain": [
       "<matplotlib.figure.Figure at 0x7f3aa467f0b8>"
      ]
     },
     "metadata": {},
     "output_type": "display_data"
    },
    {
     "name": "stdout",
     "output_type": "stream",
     "text": [
      "Score: [  7.4459376  -7.860144    3.4704938   5.632467   -4.483472   -6.6543665\n",
      " -14.5994      7.4388957   1.6399295   0.3053197]\n",
      "output:  0\n",
      "Total distortion: 2.4333231424963078\n"
     ]
    },
    {
     "data": {
      "image/png": "[encoded data removed]",
      "text/plain": [
       "<matplotlib.figure.Figure at 0x7f3aad49e5c0>"
      ]
     },
     "metadata": {},
     "output_type": "display_data"
    },
    {
     "name": "stdout",
     "output_type": "stream",
     "text": [
      "Score: [ -5.890569    7.1898203   4.897822    7.1068473   0.7684277  -2.6003454\n",
      " -21.378855    7.1670456  -3.3384738   1.4255835]\n",
      "output:  1\n",
      "Total distortion: 2.6475167713588643\n"
     ]
    },
    {
     "data": {
      "image/png": "[encoded data removed]",
      "text/plain": [
       "<matplotlib.figure.Figure at 0x7f3aad40d1d0>"
      ]
     },
     "metadata": {},
     "output_type": "display_data"
    },
    {
     "name": "stdout",
     "output_type": "stream",
     "text": [
      "Score: [ -2.747247   -5.7765484  13.321507    8.784753   -2.1887383 -10.304651\n",
      " -20.878311   13.31489     1.4158758  -3.562688 ]\n",
      "output:  2\n",
      "Total distortion: 1.9308152088976938\n"
     ]
    },
    {
     "data": {
      "image/png": "[encoded data removed]",
      "text/plain": [
       "<matplotlib.figure.Figure at 0x7f3aac316e48>"
      ]
     },
     "metadata": {},
     "output_type": "display_data"
    },
    {
     "name": "stdout",
     "output_type": "stream",
     "text": [
      "Score: [ -9.88249    -8.876221   -2.0867777  19.809242   -5.217216   -1.4525872\n",
      " -26.53228    19.807537   -3.0771396   5.813724 ]\n",
      "output:  3\n",
      "Total distortion: 1.2235190665190139\n"
     ]
    },
    {
     "data": {
      "image/png": "[encoded data removed]",
      "text/plain": [
       "<matplotlib.figure.Figure at 0x7f3aa465a080>"
      ]
     },
     "metadata": {},
     "output_type": "display_data"
    },
    {
     "name": "stdout",
     "output_type": "stream",
     "text": [
      "Score: [ -5.01784    -7.4696994   1.1797607   8.556499    8.740145   -7.124036\n",
      " -18.321245    8.736441   -1.166626    3.9772165]\n",
      "output:  4\n",
      "Total distortion: 2.336913348340102\n"
     ]
    },
    {
     "data": {
      "image/png": "[encoded data removed]",
      "text/plain": [
       "<matplotlib.figure.Figure at 0x7f3aac084358>"
      ]
     },
     "metadata": {},
     "output_type": "display_data"
    },
    {
     "name": "stdout",
     "output_type": "stream",
     "text": [
      "Score: [-12.584514  -10.174899   -6.278785   13.376694   -5.8536572  13.448348\n",
      " -21.923994   13.445035   -1.0712177   7.933717 ]\n",
      "output:  5\n",
      "Total distortion: 1.8673782570413004\n"
     ]
    },
    {
     "data": {
      "image/png": "[encoded data removed]",
      "text/plain": [
       "<matplotlib.figure.Figure at 0x7f3aa470a898>"
      ]
     },
     "metadata": {},
     "output_type": "display_data"
    },
    {
     "name": "stdout",
     "output_type": "stream",
     "text": [
      "Score: [  2.6532464 -11.378548   -1.0774891   3.4465134  -2.5935388  -2.9203074\n",
      "   3.4740665   3.4640381   1.6534986  -2.866327 ]\n",
      "output:  6\n",
      "Total distortion: 2.9159036092328914\n"
     ]
    },
    {
     "data": {
      "image/png": "[encoded data removed]",
      "text/plain": [
       "<matplotlib.figure.Figure at 0x7f3aac047ac8>"
      ]
     },
     "metadata": {},
     "output_type": "display_data"
    },
    {
     "name": "stdout",
     "output_type": "stream",
     "text": [
      "Score: [ -5.565991   -9.879321    1.3213627   9.734439   -4.425713   -2.580251\n",
      " -17.110651    9.763069    9.76447     0.827357 ]\n",
      "output:  8\n",
      "Total distortion: 1.9919973843683743\n"
     ]
    },
    {
     "data": {
      "image/png": "[encoded data removed]",
      "text/plain": [
       "<matplotlib.figure.Figure at 0x7f3aa45f98d0>"
      ]
     },
     "metadata": {},
     "output_type": "display_data"
    },
    {
     "name": "stdout",
     "output_type": "stream",
     "text": [
      "Score: [-10.841464   -8.9396305  -7.290247   13.16295    -2.8858802   1.088746\n",
      " -24.274292   15.160672   -1.9353048  15.171094 ]\n",
      "output:  9\n",
      "Total distortion: 1.5424446084882648\n"
     ]
    }
   ],
   "source": [
    "\n",
    "\n",
    "for org_img, adv_img in zip(inputs, adv):\n",
    "    plt.figure()\n",
    "    plt.subplot(1,2,1)\n",
    "    plt.imshow(np.reshape(org_img, (28,28)), cmap=\"gray\")\n",
    "    plt.subplot(1,2,2)\n",
    "    plt.imshow(np.reshape(adv_img, (28,28)), cmap=\"gray\")\n",
    "#     plt.colorbar()\n",
    "    plt.show()\n",
    "    pred_score = model.model.predict(adv_img.reshape( (1,adv_img.shape[0],adv_img.shape[1],adv_img.shape[2] )))\n",
    "    print(\"Score:\",pred_score[0])\n",
    "    print('output: ', np.argmax(pred_score[0]) )\n",
    "    print(\"Total distortion:\", np.sum((adv_img-org_img)**2)**.5)\n",
    "    \n",
    "#     break"
   ]
  },
  {
   "cell_type": "code",
   "execution_count": 13,
   "metadata": {
    "collapsed": true
   },
   "outputs": [],
   "source": [
    "file_name = 'L2_attack'\n",
    "np.savez(file_name, inputs, adv)"
   ]
  },
  {
   "cell_type": "code",
   "execution_count": null,
   "metadata": {
    "collapsed": true
   },
   "outputs": [],
   "source": []
  }
 ],
 "metadata": {
  "kernelspec": {
   "display_name": "Python 3",
   "language": "python",
   "name": "python3"
  },
  "language_info": {
   "codemirror_mode": {
    "name": "ipython",
    "version": 3
   },
   "file_extension": ".py",
   "mimetype": "text/x-python",
   "name": "python",
   "nbconvert_exporter": "python",
   "pygments_lexer": "ipython3",
   "version": "3.6.3"
  }
 },
 "nbformat": 4,
 "nbformat_minor": 2
}
